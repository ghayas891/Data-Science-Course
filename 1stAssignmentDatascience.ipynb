{
 "cells": [
  {
   "cell_type": "code",
   "execution_count": 4,
   "metadata": {},
   "outputs": [
    {
     "name": "stdout",
     "output_type": "stream",
     "text": [
      "winkle, twinkle, little star,\n",
      "  How I wonder what you are!\n",
      "    Up above the world so high,\n",
      "    Like a diamond in the sky.\n",
      "Twinkle, twinkle, little star,\n",
      " How I wonder what you are \n"
     ]
    }
   ],
   "source": [
    "############################################### First task about string ########################################################\n",
    "\n",
    "print(\"winkle, twinkle, little star,\\n  How I wonder what you are!\\n    Up above the world so high,\\n    Like a diamond in the sky.\\nTwinkle, twinkle, little star,\\n How I wonder what you are \")     "
   ]
  },
  {
   "cell_type": "code",
   "execution_count": 5,
   "metadata": {},
   "outputs": [
    {
     "name": "stdout",
     "output_type": "stream",
     "text": [
      "Python 3.8.5\n"
     ]
    }
   ],
   "source": [
    "######################## Second task about python version ######################################################################\n",
    "!python -V"
   ]
  },
  {
   "cell_type": "code",
   "execution_count": 9,
   "metadata": {},
   "outputs": [
    {
     "name": "stdout",
     "output_type": "stream",
     "text": [
      "Current Date and Time= 2021-12-30 21:00:51.632604\n",
      "30/12/2021 21:00:51\n"
     ]
    }
   ],
   "source": [
    "#################################### Third task displaying date and time #######################################################\n",
    "\n",
    "from datetime import datetime\n",
    "current_date = datetime.now()\n",
    "print(\"Current Date and Time=\", current_date)\n",
    "string = current_date.strftime(\"%d/%m/%Y %H:%M:%S\")\n",
    "print(string)"
   ]
  },
  {
   "cell_type": "code",
   "execution_count": 10,
   "metadata": {},
   "outputs": [
    {
     "name": "stdout",
     "output_type": "stream",
     "text": [
      "Please enter the radius of circle = 12\n",
      "Area =  452.16 Foot squre\n"
     ]
    }
   ],
   "source": [
    "################################## Fourth task computing the area of circle ####################################################\n",
    "\n",
    "radius_Of_Circle = int(input(\"Please enter the radius of circle = \"))\n",
    "value_Of_Pi = 3.14                                 ##### PI is constant value ##################################################\n",
    "Area_Of_Circle = value_Of_Pi*radius_Of_Circle**2   ##### area of circle is (PI*R**2) whare R is radius of circle ###############\n",
    "print(\"Area = \", Area_Of_Circle, \"Foot squre\")"
   ]
  },
  {
   "cell_type": "code",
   "execution_count": 11,
   "metadata": {},
   "outputs": [
    {
     "name": "stdout",
     "output_type": "stream",
     "text": [
      "please enter your first name Ghayas\n",
      "Please enter your second name Haider\n",
      "Your revrse name is  Haider Ghayas\n"
     ]
    }
   ],
   "source": [
    "######################## Fifth step displaying the name of user in reverse order ###############################################\n",
    " \n",
    "first_Name = input(\"please enter your first name \")\n",
    "second_Name = input(\"Please enter your second name \")\n",
    "reverse_Name = second_Name+\" \"+first_Name\n",
    "print(\"Your revrse name is \", reverse_Name)"
   ]
  },
  {
   "cell_type": "code",
   "execution_count": 12,
   "metadata": {},
   "outputs": [
    {
     "name": "stdout",
     "output_type": "stream",
     "text": [
      "Please enter first number 344\n",
      "Please enter second number 144\n",
      "Answers =  488\n"
     ]
    }
   ],
   "source": [
    "####################### Sixth step of adding two inputs ########################################################################\n",
    "first_Input = int(input(\"Please enter first number \"))\n",
    "second_Input = int(input(\"Please enter second number \"))\n",
    "addition_OF_Numbers = first_Input+second_Input   \n",
    "print(\"Answers = \", addition_OF_Numbers)"
   ]
  },
  {
   "cell_type": "code",
   "execution_count": null,
   "metadata": {},
   "outputs": [],
   "source": []
  }
 ],
 "metadata": {
  "kernelspec": {
   "display_name": "Python 3",
   "language": "python",
   "name": "python3"
  },
  "language_info": {
   "codemirror_mode": {
    "name": "ipython",
    "version": 3
   },
   "file_extension": ".py",
   "mimetype": "text/x-python",
   "name": "python",
   "nbconvert_exporter": "python",
   "pygments_lexer": "ipython3",
   "version": "3.8.5"
  }
 },
 "nbformat": 4,
 "nbformat_minor": 4
}
